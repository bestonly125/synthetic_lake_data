{
 "cells": [
  {
   "cell_type": "code",
   "execution_count": 10,
   "metadata": {
    "collapsed": true
   },
   "outputs": [],
   "source": [
    "from openpyxl import load_workbook\n",
    "import numpy as np\n",
    "from datetime import datetime\n",
    "from Person import Person\n",
    "from Account import Account, Transaction"
   ]
  },
  {
   "cell_type": "markdown",
   "source": [
    "### Началные свойства"
   ],
   "metadata": {
    "collapsed": false
   }
  },
  {
   "cell_type": "code",
   "execution_count": 11,
   "outputs": [],
   "source": [
    "n = 20000                               # Количества транзакций\n",
    "quantity_person = 7000                  # Количества персональных данных\n",
    "wb = load_workbook(\"lake_data1.xlsx\")\n",
    "wb_name = load_workbook(\"data_names.xlsx\")\n",
    "ws1 = wb[\"A1\"] #начальный отчет\n",
    "ws2 = wb[\"A2\"] #обогащенный набор\n",
    "\n",
    "ws_personal_data = wb_name[\"names\"] # набор = Ф.И.О, адрес, email"
   ],
   "metadata": {
    "collapsed": false
   }
  },
  {
   "cell_type": "markdown",
   "source": [
    "### Ф-я генерации персональных данных"
   ],
   "metadata": {
    "collapsed": false
   }
  },
  {
   "cell_type": "code",
   "execution_count": 12,
   "outputs": [],
   "source": [
    "def gen_person(quantity:int):\n",
    "        arr_person = []\n",
    "        for i in range(quantity):\n",
    "                arr_person.append(Person())\n",
    "        return arr_person"
   ],
   "metadata": {
    "collapsed": false
   }
  },
  {
   "cell_type": "markdown",
   "source": [
    "### Согласно генерации персональных данных создается аккаунты пользователей"
   ],
   "metadata": {
    "collapsed": false
   }
  },
  {
   "cell_type": "code",
   "execution_count": 13,
   "outputs": [],
   "source": [
    "def gen_account(persons):\n",
    "        arr_account = []\n",
    "        for person in persons:\n",
    "                if np.random.randint(1,100) < 75:\n",
    "                        arr_account.append([person,Account()])\n",
    "                else:\n",
    "                        for i in range(3):\n",
    "                                arr_account.append([person,Account()])\n",
    "        return arr_account"
   ],
   "metadata": {
    "collapsed": false
   }
  },
  {
   "cell_type": "markdown",
   "source": [
    "### Генерация транзакций пользователей"
   ],
   "metadata": {
    "collapsed": false
   }
  },
  {
   "cell_type": "code",
   "execution_count": 14,
   "outputs": [],
   "source": [
    "def gen_tansaction(row:int=20000,quantity_person = 7000):\n",
    "        arr_persons = gen_person(quantity_person)\n",
    "        arr_acc = gen_account(arr_persons)\n",
    "        arr_tx =[]\n",
    "        for i in range(2,row+2):\n",
    "                num = np.random.randint(0,len(arr_acc))\n",
    "                account = arr_acc[num][1]\n",
    "                dt_in = datetime.strptime(account.acc_date,\"%d/%m/%Y\").strftime(\"%Y-%m-%d\")\n",
    "                dt_out = datetime.strptime(account.acc_close_date,\"%d/%m/%Y\").strftime(\"%Y-%m-%d\")\n",
    "                days = np.datetime64(dt_out)-np.datetime64(dt_in)\n",
    "                txdate = np.datetime64(f\"{dt_in}T00:00\") + (np.random.randint(1,np.int64(days)) * np.random.randint(1,1440))\n",
    "                tx = Transaction(txdate=str(txdate),currency=account.currency)\n",
    "                arr_tx.append([arr_acc[num][0],arr_acc[num][1],tx,i])\n",
    "        return arr_tx"
   ],
   "metadata": {
    "collapsed": false
   }
  },
  {
   "cell_type": "markdown",
   "source": [
    "### Генерация данных"
   ],
   "metadata": {
    "collapsed": false
   }
  },
  {
   "cell_type": "code",
   "execution_count": 15,
   "outputs": [],
   "source": [
    "tx = gen_tansaction(row=n, quantity_person=quantity_person)"
   ],
   "metadata": {
    "collapsed": false
   }
  },
  {
   "cell_type": "markdown",
   "source": [
    "### Запольнения данных в таблицу"
   ],
   "metadata": {
    "collapsed": false
   }
  },
  {
   "cell_type": "code",
   "execution_count": 16,
   "outputs": [],
   "source": [
    "def title_a1():\n",
    "\n",
    "        for arg in tx:\n",
    "                person = arg[0]\n",
    "                account = arg[1]\n",
    "                transaction = arg[2]\n",
    "                row = arg[3]\n",
    "                account.set_date(datetime.strptime(transaction.txdate, \"%Y-%m-%dT%H:%M\").strftime(\"%d/%m/%Y\"))\n",
    "                ws1[\"A\" + str(row)] = row - 1                           # ID\n",
    "                ws1[\"B\" + str(row)] = person.lastname                   # Фамилия\n",
    "                ws1[\"C\" + str(row)] = person.firstname                  # Имя\n",
    "                ws1[\"D\" + str(row)] = person.thirdname                  # Отчество\n",
    "                ws1[\"E\" + str(row)] = person.birthday                   # День рождения\n",
    "                ws1[\"F\" + str(row)] = str(person.sex) + \"`\"             # Пол\n",
    "                ws1[\"G\" + str(row)] = str(person.marg_status) + \"`\"     # Статус\n",
    "                ws1[\"H\" + str(row)] = str(person.nationality) + \"`\"     # Национальность\n",
    "                ws1[\"I\" + str(row)] = str(person.snils) + \"`\"           # СНИЛС\n",
    "                ws1[\"J\" + str(row)] = str(person.born_place) + \"`\"      # Место рождения\n",
    "                ws1[\"K\" + str(row)] = str(account.account) + \"`\"        # Аккаунт\n",
    "                ws1[\"L\" + str(row)] = account.acc_date                  # Дата открытия\n",
    "                ws1[\"M\" + str(row)] = account.acc_close_date            # Дата закрытия\n",
    "                ws1[\"N\" + str(row)] = str(account.currency) + \"`\"       # Валюта\n",
    "                ws1[\"O\" + str(row)] = str(account.turn_per_day) + \"`\"   # Сред. кредит\n",
    "                ws1[\"P\" + str(row)] = str(account.acc_balance) + \"`\"    # Баланс\n",
    "                ws1[\"Q\" + str(row)] = account.acc_last_day              # Последний день оплаты\n",
    "                ws1[\"R\" + str(row)] = transaction.txdate                # Дата транзакции\n",
    "                ws1[\"S\" + str(row)] = str(transaction.txsum) + \"`\"      # Сумма транзакции\n",
    "                ws1[\"T\" + str(row)] = transaction.txplace               # Место транзакции"
   ],
   "metadata": {
    "collapsed": false
   }
  },
  {
   "cell_type": "markdown",
   "source": [
    "### Обезличенный набор данных"
   ],
   "metadata": {
    "collapsed": false
   }
  },
  {
   "cell_type": "code",
   "execution_count": 17,
   "outputs": [],
   "source": [
    "def title_a2():\n",
    "\n",
    "        for arg in tx:\n",
    "                person = arg[0]\n",
    "                account = arg[1]\n",
    "                transaction = arg[2]\n",
    "                row = arg[3]\n",
    "                account.set_date(datetime.strptime(transaction.txdate, \"%Y-%m-%dT%H:%M\").strftime(\"%d/%m/%Y\"))\n",
    "                ws2[\"A\" + str(row)] = row - 1                                   # ID\n",
    "                ws2[\"B\" + str(row)] = person.lastname[:2]                       # Фамилия\n",
    "                ws2[\"C\" + str(row)] = person.firstname[:1]                      # Имя\n",
    "                ws2[\"D\" + str(row)] = person.thirdname[:1]                      # Отчество\n",
    "                ws2[\"E\" + str(row)] = person.birthday[6:] + \"`\"                 # День рождения\n",
    "                ws2[\"F\" + str(row)] = str(person.sex ) + \"`\"                    # Пол\n",
    "                ws2[\"G\" + str(row)] = str(person.marg_status) + \"`\"             # Статус\n",
    "                ws2[\"H\" + str(row)] = str(person.nationality) + \"`\"             # Национальность\n",
    "                ws2[\"I\" + str(row)] = person.snils[:3] + \"-xxx-xxx xx\"          # СНИЛС\n",
    "                ws2[\"J\" + str(row)] = str(person.born_place) + \"`\"              # Место рождения\n",
    "                ws2[\"K\" + str(row)] = str(account.account)[:5] + \"xxxxxxx\"      # Аккаунт\n",
    "                ws2[\"L\" + str(row)] = account.acc_date[3:] + \"`\"                # Дата открытия\n",
    "                ws2[\"M\" + str(row)] = account.acc_close_date[3:] + \"`\"          # Дата закрытия\n",
    "                ws2[\"N\" + str(row)] = str(account.currency) + \"`\"               # Валюта\n",
    "                ws2[\"O\" + str(row)] = str(round(account.turn_per_day + np.random.uniform(-2,2))) + \"`\"    # Сред. кредит\n",
    "                ws2[\"P\" + str(row)] = str(round(account.acc_balance + np.random.uniform(-2,2))) + \"`\"     # Баланс\n",
    "                ws2[\"Q\" + str(row)] = str(account.acc_last_day[3:])  + \"`\"                                # Последний день оплаты\n",
    "                ws2[\"R\" + str(row)] = transaction.txdate[:7]+ \"`\"                                         # Дата транзакции\n",
    "                ws2[\"S\" + str(row)] = str(round(transaction.txsum + np.random.uniform(-2,2))) +\"`\"        # Сумма транзакции\n",
    "                ws2[\"T\" + str(row)] = transaction.txplace                                                 # Место транзакции"
   ],
   "metadata": {
    "collapsed": false
   }
  },
  {
   "cell_type": "code",
   "execution_count": 18,
   "outputs": [],
   "source": [
    "title_a1()\n",
    "title_a2()\n",
    "wb.save(filename=\"lake_data_v.0.10.xlsx\")"
   ],
   "metadata": {
    "collapsed": false
   }
  }
 ],
 "metadata": {
  "kernelspec": {
   "display_name": "Python 3",
   "language": "python",
   "name": "python3"
  },
  "language_info": {
   "codemirror_mode": {
    "name": "ipython",
    "version": 2
   },
   "file_extension": ".py",
   "mimetype": "text/x-python",
   "name": "python",
   "nbconvert_exporter": "python",
   "pygments_lexer": "ipython2",
   "version": "2.7.6"
  }
 },
 "nbformat": 4,
 "nbformat_minor": 0
}
